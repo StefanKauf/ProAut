{
 "cells": [
  {
   "cell_type": "code",
   "execution_count": 152,
   "metadata": {},
   "outputs": [
    {
     "data": {
      "text/plain": [
       "'\\nTitle:       Optimale Steuerung und Regelung:\\nSubttitle:   1. Aufgabe\\nAuthor:      Stefan Kaufmann\\nMaNr.        51867606\\nDate:        01.04.2023\\n'"
      ]
     },
     "execution_count": 152,
     "metadata": {},
     "output_type": "execute_result"
    }
   ],
   "source": [
    "'''\n",
    "Title:       Optimale Steuerung und Regelung:\n",
    "Subttitle:   1. Aufgabe\n",
    "Author:      Stefan Kaufmann\n",
    "MaNr.        51867606\n",
    "Date:        01.04.2023\n",
    "'''"
   ]
  },
  {
   "attachments": {},
   "cell_type": "markdown",
   "metadata": {},
   "source": [
    "# Optimale Steuerung und Regelung\n",
    "## 1. Übung\n",
    "### Stefan Kaufmann - 51867606"
   ]
  },
  {
   "cell_type": "code",
   "execution_count": 153,
   "metadata": {},
   "outputs": [],
   "source": [
    "import numpy as np\n",
    "import scipy as sp\n",
    "import scipy.linalg as la\n",
    "import matplotlib.pyplot as plt"
   ]
  },
  {
   "attachments": {},
   "cell_type": "markdown",
   "metadata": {},
   "source": [
    "mathematisches Pendel einer oszillierenden Punktmasse mit PID Regler    \n",
    "$m \\ddot{y}(t) + \\omega^{2}y(t) = u(t)  \\hspace{2cm} y(0) = 1, \\hspace{1cm} \\dot{y} = 0 \\\\\n",
    "u(t) = K_{p}y(t) + K_{D}\\dot{y}(t) + K_{I} \\int_{0}^{t}y(\\tau) d\\tau \n",
    "$  \n",
    "mit dem Kostenfunktional    \n",
    "$\n",
    "F(k,y(k;t)) = \\frac{1}{2} \\int_{0}^{\\inf} (x^{T}(t)Qx(t) + ru^{2})dt\n",
    "$\n"
   ]
  },
  {
   "attachments": {},
   "cell_type": "markdown",
   "metadata": {},
   "source": [
    "## a) Überführung in ein satisches Problem\n",
    "\n",
    "$ x = \n",
    "\\begin{bmatrix}\n",
    "y & \\dot{y} & \\int_{0}^{t}y(\\tau) d\\tau \n",
    "\\end{bmatrix} ^{T}\n",
    "$\n",
    "\n",
    "$\n",
    "\\dot{x} = \n",
    "\\begin{bmatrix}\n",
    "0 & 1 & 0  \\\\\n",
    "\\frac{-\\omega^{2}}{m} & 0 & 0 \\\\\n",
    "1 & 0 & 0\n",
    "\\end{bmatrix} x\n",
    "+\n",
    "\\begin{bmatrix}\n",
    "0 \\\\ \\frac{1}{m} \\\\ 0\n",
    "\\end{bmatrix} u\n",
    "$     \n",
    "$\n",
    "y = \n",
    "\\begin{bmatrix}\n",
    "1 & 0 & 0\n",
    "\\end{bmatrix} + 0u\n",
    "$"
   ]
  },
  {
   "cell_type": "code",
   "execution_count": 154,
   "metadata": {},
   "outputs": [],
   "source": [
    "# Parameter\n",
    "m  = 1\n",
    "w  = 2\n",
    "Q = la.block_diag(3,4,5)\n",
    "R = 6"
   ]
  },
  {
   "cell_type": "code",
   "execution_count": 155,
   "metadata": {},
   "outputs": [],
   "source": [
    "# State Space System\n",
    "A = np.array([[0,       1, 0],\n",
    "               [-w**2/m, 0, 0],\n",
    "               [1,       0, 0]])\n",
    "\n",
    "B = np.array([0,1/m,0])\n",
    "B_ = np.array([[0,1/m,0]])\n",
    "\n",
    "C = np.array([1,0,0])\n",
    "D = 0"
   ]
  },
  {
   "cell_type": "code",
   "execution_count": 184,
   "metadata": {},
   "outputs": [
    {
     "name": "stdout",
     "output_type": "stream",
     "text": [
      "[162759.7876639]\n"
     ]
    }
   ],
   "source": [
    "N = 5000\n",
    "nx = 3\n",
    "\n",
    "\n",
    "def rollout(k,x):\n",
    "    u     = k@x    \n",
    "    dx     = A@x + B*u    \n",
    "    return x+dx*0.01 , u\n",
    "\n",
    "def cost(k):    \n",
    "    x0 = np.array([1,0,0])   \n",
    "    \n",
    "    x_new = np.zeros((nx,N))\n",
    "    u = np.zeros((1,N))\n",
    "    \n",
    "    x_new[:,1], u[:,0] = rollout(k,x0)  \n",
    "\n",
    "    cost_ = x0@Q@x0*0 + R*u[:,0]**2*0\n",
    "   \n",
    "    for i in range(1,N-2): \n",
    "        # laufende Kosten\n",
    "        x_new[:,i+1], u[:,i] = rollout(k,x_new[:,i])       \n",
    "        \n",
    "        cost_ += x_new[:,i+1]@Q@x_new[:,i+1]\n",
    "        cost_ += u[:,i]**2*R\n",
    "   \n",
    "    return cost_   \n",
    "\n",
    "print(cost([0,0,0]))   \n",
    "\n"
   ]
  },
  {
   "cell_type": "code",
   "execution_count": 162,
   "metadata": {},
   "outputs": [
    {
     "name": "stdout",
     "output_type": "stream",
     "text": [
      "[-0.30926715 -1.13366704 -0.91287093]\n"
     ]
    }
   ],
   "source": [
    "import scipy.linalg as la\n",
    "P = la.solve_continuous_are(A,B_.T,Q,R)\n",
    "K = -B@P/R\n",
    "print(K)"
   ]
  },
  {
   "cell_type": "code",
   "execution_count": 185,
   "metadata": {},
   "outputs": [],
   "source": [
    "\n",
    "from scipy.optimize import minimize\n",
    "k0 = np.array([0, -1, -1])\n",
    "res = minimize(cost, k0, method=\"nelder-mead\", options={\"disp\": True})\n",
    "print(res)\n",
    "print(cost(res.x))"
   ]
  }
 ],
 "metadata": {
  "kernelspec": {
   "display_name": "Python 3",
   "language": "python",
   "name": "python3"
  },
  "language_info": {
   "codemirror_mode": {
    "name": "ipython",
    "version": 3
   },
   "file_extension": ".py",
   "mimetype": "text/x-python",
   "name": "python",
   "nbconvert_exporter": "python",
   "pygments_lexer": "ipython3",
   "version": "3.10.6"
  },
  "orig_nbformat": 4
 },
 "nbformat": 4,
 "nbformat_minor": 2
}
