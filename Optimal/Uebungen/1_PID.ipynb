{
 "cells": [
  {
   "cell_type": "code",
   "execution_count": 1,
   "metadata": {},
   "outputs": [
    {
     "data": {
      "text/plain": [
       "'\\nTitle:       Optimale Steuerung und Regelung:\\nSubttitle:   1. Aufgabe\\nAuthor:      Stefan Kaufmann\\nMaNr.        51867606\\nDate:        01.04.2023\\n'"
      ]
     },
     "execution_count": 1,
     "metadata": {},
     "output_type": "execute_result"
    }
   ],
   "source": [
    "'''\n",
    "Title:       Optimale Steuerung und Regelung:\n",
    "Subttitle:   1. Aufgabe\n",
    "Author:      Stefan Kaufmann\n",
    "MaNr.        51867606\n",
    "Date:        01.04.2023\n",
    "'''"
   ]
  },
  {
   "attachments": {},
   "cell_type": "markdown",
   "metadata": {},
   "source": [
    "# Optimale Steuerung und Regelung\n",
    "## 1. Übung\n",
    "### Stefan Kaufmann - 51867606"
   ]
  },
  {
   "cell_type": "code",
   "execution_count": 2,
   "metadata": {},
   "outputs": [],
   "source": [
    "import numpy as np\n",
    "import scipy as sp\n",
    "import scipy.linalg as la\n",
    "import matplotlib.pyplot as plt\n",
    "import scipy.signal as sig\n",
    "from scipy.optimize import minimize"
   ]
  },
  {
   "attachments": {},
   "cell_type": "markdown",
   "metadata": {},
   "source": [
    "mathematisches Pendel einer oszillierenden Punktmasse mit PID Regler    \n",
    "$m \\ddot{y}(t) + \\omega^{2}y(t) = u(t)  \\hspace{2cm} y(0) = 1, \\hspace{1cm} \\dot{y} = 0 \\\\\n",
    "u(t) = K_{p}y(t) + K_{D}\\dot{y}(t) + K_{I} \\int_{0}^{t}y(\\tau) d\\tau \n",
    "$  \n",
    "mit dem Kostenfunktional    \n",
    "$\n",
    "F(k,y(k;t)) = \\frac{1}{2} \\int_{0}^{\\inf} (x^{T}(t)Qx(t) + ru^{2})dt\n",
    "$\n"
   ]
  },
  {
   "attachments": {},
   "cell_type": "markdown",
   "metadata": {},
   "source": [
    "## a) Überführung in ein satisches Problem\n",
    "\n",
    "$ x = \n",
    "\\begin{bmatrix}\n",
    "y & \\dot{y} & \\int_{0}^{t}y(\\tau) d\\tau \n",
    "\\end{bmatrix} ^{T}\n",
    "$\n",
    "\n",
    "$\n",
    "\\dot{x} = \n",
    "\\begin{bmatrix}\n",
    "0 & 1 & 0  \\\\\n",
    "\\frac{-\\omega^{2}}{m} & 0 & 0 \\\\\n",
    "1 & 0 & 0\n",
    "\\end{bmatrix} x\n",
    "+\n",
    "\\begin{bmatrix}\n",
    "0 \\\\ \\frac{1}{m} \\\\ 0\n",
    "\\end{bmatrix} u\n",
    "$     \n",
    "$\n",
    "y = \n",
    "\\begin{bmatrix}\n",
    "1 & 0 & 0\n",
    "\\end{bmatrix} + 0u\n",
    "$   \n",
    "$\n",
    "F(k,y(k;t)) = \\frac{1}{2} \\sum_{k=0}^{N} (x_{k}^{T}(t)Qx_{k}(t) + ru_{k}^{2})dt \\\\\n",
    "mit \\hspace{1cm}  u = kx_{k}  \\hspace{1cm}  x_{k+1} = Ax_{k} + Bu_{k}  = (A+Bk)x_{k}\n",
    "$"
   ]
  },
  {
   "cell_type": "code",
   "execution_count": 3,
   "metadata": {},
   "outputs": [],
   "source": [
    "# Parameter\n",
    "m  = 1\n",
    "w  = 2\n",
    "Q = la.block_diag(3,4,5)\n",
    "R = 6"
   ]
  },
  {
   "cell_type": "code",
   "execution_count": 4,
   "metadata": {},
   "outputs": [],
   "source": [
    "# State Space System\n",
    "A = np.array([[0,       1, 0],\n",
    "               [-w**2/m, 0, 0],\n",
    "               [1,       0, 0]])\n",
    "\n",
    "B = np.array([[0],[1/m],[0]])\n",
    "\n",
    "C = np.array([[1,0,0]])\n",
    "D = 0"
   ]
  },
  {
   "cell_type": "code",
   "execution_count": 102,
   "metadata": {},
   "outputs": [],
   "source": [
    "global x0,N,nx, k0\n",
    "f_dynamic = lambda x,u: A@x+B@u\n",
    "k0 = np.array([[-2,-2,-2]])         # Anfangsschätzung\n",
    "N = 50000                          # Anzahl von Zeitschritten N--> unendlich\n",
    "nx = 3                             # Anzahl von Zuständen\n",
    "x0 = np.array([[1],[0],[0]])       # Startzustand --> zu stabilisiern\n",
    "dt = 0.001\n",
    "\n",
    "Ad,Bd,Cd,Dd,Ta = sig.cont2discrete((A,B,C,D),dt, method='foh')  # Discretisierung damit dt --> gegen 0 geht  (= analytische Lösung)\n",
    "\n",
    "def rollout(k,x):\n",
    "    u     = k@x    \n",
    "    dx    = Ad@x + Bd@u    \n",
    "    #dx    =A@x +B*u    \n",
    "    return dx , u\n",
    "\n",
    "def cost(k):  \n",
    "    k = np.reshape(k, (1, 3))   \n",
    "    x_new, u   = rollout(k,x0)  \n",
    "\n",
    "    cost_      = (x0.T@Q@x0 + R*u**2*0)/2*dt\n",
    "   \n",
    "    for i in range(1,N-2): \n",
    "        # laufende Kosten\n",
    "        x_new, u = rollout(k,x_new)       \n",
    "        \n",
    "        cost_ += x_new.T@Q@x_new/2*dt\n",
    "        cost_ += u**2*R/2*dt\n",
    "   \n",
    "    return cost_.flatten()"
   ]
  },
  {
   "cell_type": "code",
   "execution_count": 99,
   "metadata": {},
   "outputs": [
    {
     "name": "stderr",
     "output_type": "stream",
     "text": [
      "/tmp/ipykernel_29250/1038059239.py:2: DeprecationWarning: Use of `minimize` with `x0.ndim != 1` is deprecated. Currently, singleton dimensions will be removed from `x0`, but an error will be raised in SciPy 1.11.0.\n",
      "  res = minimize(cost, k0, method=\"nelder-mead\", options={\"disp\": True})\n"
     ]
    },
    {
     "name": "stdout",
     "output_type": "stream",
     "text": [
      "Optimization terminated successfully.\n",
      "         Current function value: 11.910897\n",
      "         Iterations: 88\n",
      "         Function evaluations: 159\n",
      "       message: Optimization terminated successfully.\n",
      "       success: True\n",
      "        status: 0\n",
      "           fun: 11.9108965605448\n",
      "             x: [-2.941e-01 -1.109e+00 -8.376e-01]\n",
      "           nit: 88\n",
      "          nfev: 159\n",
      " final_simplex: (array([[-2.941e-01, -1.109e+00, -8.376e-01],\n",
      "                       [-2.941e-01, -1.109e+00, -8.377e-01],\n",
      "                       [-2.941e-01, -1.109e+00, -8.376e-01],\n",
      "                       [-2.941e-01, -1.109e+00, -8.376e-01]]), array([ 1.191e+01,  1.191e+01,  1.191e+01,  1.191e+01]))\n"
     ]
    }
   ],
   "source": [
    "# Kontrolle der Kostenfunktion\n",
    "res = minimize(cost, k0, method=\"nelder-mead\", options={\"disp\": True})\n",
    "print(res)"
   ]
  },
  {
   "cell_type": "code",
   "execution_count": 100,
   "metadata": {},
   "outputs": [
    {
     "name": "stderr",
     "output_type": "stream",
     "text": [
      "/tmp/ipykernel_29250/1595469226.py:15: DeprecationWarning: Use of `minimize` with `x0.ndim != 1` is deprecated. Currently, singleton dimensions will be removed from `x0`, but an error will be raised in SciPy 1.11.0.\n",
      "  res3 = minimize(cost3, k0, method=\"nelder-mead\", options={\"disp\": True})\n"
     ]
    },
    {
     "name": "stdout",
     "output_type": "stream",
     "text": [
      "Optimization terminated successfully.\n",
      "         Current function value: 11.917210\n",
      "         Iterations: 84\n",
      "         Function evaluations: 155\n",
      "       message: Optimization terminated successfully.\n",
      "       success: True\n",
      "        status: 0\n",
      "           fun: 11.917209681931078\n",
      "             x: [-3.092e-01 -1.134e+00 -9.129e-01]\n",
      "           nit: 84\n",
      "          nfev: 155\n",
      " final_simplex: (array([[-3.092e-01, -1.134e+00, -9.129e-01],\n",
      "                       [-3.093e-01, -1.134e+00, -9.128e-01],\n",
      "                       [-3.093e-01, -1.134e+00, -9.128e-01],\n",
      "                       [-3.093e-01, -1.134e+00, -9.130e-01]]), array([ 1.192e+01,  1.192e+01,  1.192e+01,  1.192e+01]))\n"
     ]
    }
   ],
   "source": [
    "# Alternative mit Scipy integrate\n",
    "from scipy.integrate import quad\n",
    "from scipy.linalg import expm\n",
    "\n",
    "def integrand(t,k):\n",
    "    k = np.reshape(k, (3, 1))\n",
    "    x = expm((A + B@k.T)*t)@x0              # Lösung der Matrixespotenitlagleichung\n",
    "    u = k.T@x                             # Eingang\n",
    "    #print((x@Q@x + R*u**2)*0.5)\n",
    "    return (x.T@Q@x + R*u**2)*0.5\n",
    "\n",
    "\n",
    "cost3 = lambda k: quad(integrand, 0, np.inf, args=(k,))[0]\n",
    "\n",
    "res3 = minimize(cost3, k0, method=\"nelder-mead\", options={\"disp\": True})\n",
    "print(res3)\n"
   ]
  },
  {
   "cell_type": "code",
   "execution_count": 104,
   "metadata": {},
   "outputs": [
    {
     "name": "stdout",
     "output_type": "stream",
     "text": [
      "Kosten diskret  [14.37269358]\n",
      "Kosten kontinuirlich 14.375000000000004\n",
      "Zeitsikret endlich [-0.29409068 -1.10878815 -0.83761751]\n",
      "scipy integrade [-0.30923162 -1.13364782 -0.91285598]\n"
     ]
    }
   ],
   "source": [
    "# Genenüberstellung\n",
    "print('Kosten diskret ', cost(k0))\n",
    "print('Kosten kontinuirlich', cost3(k0))\n",
    "\n",
    "print('Zeitsikret endlich', res.x)\n",
    "print('scipy integrade', res3.x)"
   ]
  },
  {
   "attachments": {},
   "cell_type": "markdown",
   "metadata": {},
   "source": [
    "## b) Gradient des Kostenfunktionals\n"
   ]
  },
  {
   "cell_type": "code",
   "execution_count": 112,
   "metadata": {},
   "outputs": [],
   "source": [
    "def dcost(k):    \n",
    "    gradient = np.zeros((nx,1),dtype=float)\n",
    "    gradient += x0@k@x0*R*dt\n",
    "    xnew,u   = rollout(k,x0)\n",
    "    \n",
    "    for i in range(0,N):                         \n",
    "        #gradient += (xnew.T@Q).T  \n",
    "        gradient  += (Ad+Bd@k).T@xnew *dt  \n",
    "        gradient  += xnew@k@xnew*R *dt\n",
    "\n",
    "        xnew,u  = rollout(k,xnew)\n",
    "    \n",
    "    return gradient"
   ]
  },
  {
   "cell_type": "code",
   "execution_count": 106,
   "metadata": {},
   "outputs": [],
   "source": [
    "from scipy.optimize import approx_fprime\n",
    "\n",
    "def dcost3(k):\n",
    "    # Nummerisch Ableiten \n",
    "    return approx_fprime(k, cost3, 1e-8)"
   ]
  },
  {
   "cell_type": "code",
   "execution_count": 113,
   "metadata": {},
   "outputs": [
    {
     "name": "stdout",
     "output_type": "stream",
     "text": [
      "[[ 5.29416773e-03 -1.30070119e+01  4.00150065e+00]]\n",
      "[-2.59999988  0.17499939  0.41249955]\n"
     ]
    }
   ],
   "source": [
    "\n",
    "print(dcost(k0).T)\n",
    "print(dcost3([-2,-2,-2]))"
   ]
  },
  {
   "attachments": {},
   "cell_type": "markdown",
   "metadata": {},
   "source": [
    "## c) Gradientenverfahren nach [Gra19, Abschnitt 3.3.2]\n",
    "Die Suchrichtung ergibt sich zu: $ \\hspace{0.5cm} s^{k}= -\\nabla f(x^{k}) $\n",
    "## d) Schrittweitensteuerung mittels Backtracking Verfahren\n",
    "mit dem Abbruchkriterium (Amerijo-Bedingung) der Schrittweitenadaption\n",
    "![bedingung](./img/wolfe_bedingung.png)   \n",
    "das Verfahren:   \n",
    "![amerigo](./img/amerigo.png)\n",
    "\n"
   ]
  },
  {
   "cell_type": "code",
   "execution_count": 49,
   "metadata": {},
   "outputs": [],
   "source": [
    "def backtracking(x,f,s,rho=0.5,c1=1e-7):\n",
    "\n",
    "    alpha = 1   \n",
    "\n",
    "    while f(x +alpha*s) >= f(x) + c1*alpha*s@s or np.isnan(f(x+alpha*s)):\n",
    "        alpha *= rho   # Reduzierung der Schrittweite     \n",
    "        if alpha < 1e-3:\n",
    "            print('Error Schrittweite unterschritten')\n",
    "            break\n",
    "\n",
    "    return alpha"
   ]
  },
  {
   "cell_type": "code",
   "execution_count": 38,
   "metadata": {},
   "outputs": [],
   "source": [
    "def gradienten_step(x,f,df,fix=False):\n",
    "        \n",
    "    # Gradientenrichtung --> ohne Regularisierung\n",
    "    s = -df(x)               \n",
    "    \n",
    "    # Backtracking    \n",
    "    alpha = backtracking(x,f,s)\n",
    "    # Fixed Step size\n",
    "    if fix == True:\n",
    "        alpha = 0.1    \n",
    "    \n",
    "    print('Step size ', alpha)\n",
    "    return x + alpha*s \n"
   ]
  },
  {
   "cell_type": "code",
   "execution_count": 51,
   "metadata": {},
   "outputs": [],
   "source": [
    "def linesearch(x0,f,df,Nmax=100,tol_f =1e-5, fix_stepsize=False ):\n",
    "        \n",
    "    x_alt = x0.copy()\n",
    "\n",
    "    for k in range(Nmax):\n",
    "              \n",
    "        x = gradienten_step(x_alt,f,df,fix_stepsize)        \n",
    "        # Abbruchkriterium\n",
    "        if np.linalg.norm(df(x)) < tol_f:  \n",
    "                print('Abbruch')          \n",
    "                return x,k\n",
    "        print(k, 'xopt= ',x, '                Kosten ', f(x))  \n",
    "        x_alt = x.copy()\n",
    "    return x,k\n",
    "        "
   ]
  },
  {
   "cell_type": "code",
   "execution_count": 53,
   "metadata": {},
   "outputs": [
    {
     "name": "stdout",
     "output_type": "stream",
     "text": [
      "Step size  0.5\n",
      "0 xopt=  [-0.70000006 -2.0874997  -2.20624977]                 Kosten  13.144728958977002\n"
     ]
    },
    {
     "name": "stderr",
     "output_type": "stream",
     "text": [
      "/tmp/ipykernel_29250/1595469226.py:10: RuntimeWarning: overflow encountered in matmul\n",
      "  return (x.T@Q@x + R*u**2)*0.5\n",
      "/tmp/ipykernel_29250/1595469226.py:10: RuntimeWarning: overflow encountered in square\n",
      "  return (x.T@Q@x + R*u**2)*0.5\n",
      "/home/stefan/.local/lib/python3.10/site-packages/scipy/linalg/_matfuncs.py:378: RuntimeWarning: overflow encountered in matmul\n",
      "  eAw = eAw @ eAw\n",
      "/tmp/ipykernel_29250/1595469226.py:7: RuntimeWarning: invalid value encountered in matmul\n",
      "  x = expm((A + B@k.T)*t)@x0              # Lösung der Matrixespotenitlagleichung\n",
      "/home/stefan/.local/lib/python3.10/site-packages/scipy/linalg/_matfuncs.py:378: RuntimeWarning: invalid value encountered in matmul\n",
      "  eAw = eAw @ eAw\n",
      "/tmp/ipykernel_29250/1595469226.py:13: IntegrationWarning: The occurrence of roundoff error is detected, which prevents \n",
      "  the requested tolerance from being achieved.  The error may be \n",
      "  underestimated.\n",
      "  cost3 = lambda k: quad(integrand, 0, np.inf, args=(k,))[0]\n",
      "/tmp/ipykernel_29250/1595469226.py:13: IntegrationWarning: The maximum number of subdivisions (50) has been achieved.\n",
      "  If increasing the limit yields no improvement it is advised to analyze \n",
      "  the integrand in order to determine the difficulties.  If the position of a \n",
      "  local difficulty can be determined (singularity, discontinuity) one will \n",
      "  probably gain from splitting up the interval and calling the integrator \n",
      "  on the subranges.  Perhaps a special-purpose integrator should be used.\n",
      "  cost3 = lambda k: quad(integrand, 0, np.inf, args=(k,))[0]\n"
     ]
    },
    {
     "name": "stdout",
     "output_type": "stream",
     "text": [
      "Step size  0.125\n",
      "1 xopt=  [-0.80987222 -1.68169688 -2.29722707]                 Kosten  12.212364608995703\n",
      "Step size  0.25\n",
      "2 xopt=  [-0.7018592  -1.51545413 -2.31972347]                 Kosten  12.168047958544353\n",
      "Step size  0.125\n",
      "3 xopt=  [-0.64066561 -1.6195436  -2.27683846]                 Kosten  12.137429989626282\n",
      "Step size  0.125\n",
      "4 xopt=  [-0.64283077 -1.54518583 -2.27376837]                 Kosten  12.120724389695768\n",
      "Step size  0.25\n",
      "5 xopt=  [-0.59791474 -1.5891369  -2.22004685]                 Kosten  12.120394442989841\n",
      "Step size  0.125\n",
      "6 xopt=  [-0.6109735  -1.5208473  -2.21311177]                 Kosten  12.106969199036051\n",
      "Step size  0.125\n",
      "7 xopt=  [-0.59611319 -1.54605811 -2.18396211]                 Kosten  12.100793152090992\n",
      "Step size  0.25\n",
      "8 xopt=  [-0.59681756 -1.49557121 -2.14954738]                 Kosten  12.09586053732093\n",
      "Step size  0.125\n",
      "9 xopt=  [-0.58046719 -1.53034697 -2.11811454]                 Kosten  12.088784844649522\n",
      "Step size  0.25\n",
      "10 xopt=  [-0.58594867 -1.46764024 -2.08690084]                 Kosten  12.087137339634985\n",
      "Step size  0.125\n",
      "11 xopt=  [-0.56552481 -1.51792952 -2.05200167]                 Kosten  12.078151324026024\n",
      "Step size  0.125\n",
      "12 xopt=  [-0.57134811 -1.4760818  -2.03922369]                 Kosten  12.071516051094878\n",
      "Step size  0.25\n",
      "13 xopt=  [-0.55014676 -1.50484963 -1.98689537]                 Kosten  12.068196172130284\n",
      "Step size  0.125\n",
      "14 xopt=  [-0.55906553 -1.45351059 -1.97669826]                 Kosten  12.060164926919667\n",
      "Step size  0.125\n",
      "15 xopt=  [-0.54686556 -1.47420954 -1.94929865]                 Kosten  12.055068737689542\n",
      "Step size  0.25\n",
      "16 xopt=  [-0.5479069  -1.42691906 -1.91602566]                 Kosten  12.050754555267778\n",
      "Step size  0.125\n",
      "17 xopt=  [-0.5321597  -1.46147972 -1.88559267]                 Kosten  12.04460980795029\n",
      "Step size  0.125\n",
      "18 xopt=  [-0.53554572 -1.4281993  -1.8716725 ]                 Kosten  12.0395275744884\n",
      "Step size  0.25\n",
      "19 xopt=  [-0.51690495 -1.45053974 -1.82255863]                 Kosten  12.035633953766649\n",
      "Step size  0.125\n",
      "20 xopt=  [-0.52401846 -1.40510653 -1.81201666]                 Kosten  12.029294511397952\n",
      "Step size  0.125\n",
      "21 xopt=  [-0.5124804  -1.42475193 -1.78580343]                 Kosten  12.024791642327843\n",
      "Step size  0.25\n",
      "22 xopt=  [-0.51386702 -1.37724526 -1.75477358]                 Kosten  12.021630677879887\n",
      "Step size  0.125\n",
      "23 xopt=  [-0.49773977 -1.41476793 -1.72463598]                 Kosten  12.015992643004793\n",
      "Step size  0.125\n",
      "24 xopt=  [-0.5022302  -1.37792072 -1.71284943]                 Kosten  12.011112519134072\n",
      "Step size  0.25\n",
      "25 xopt=  [-0.48185991 -1.40877493 -1.66397976]                 Kosten  12.01025184843339\n",
      "Step size  0.125\n",
      "26 xopt=  [-0.49204419 -1.35299532 -1.65743575]                 Kosten  12.003119117787147\n",
      "Step size  0.125\n",
      "27 xopt=  [-0.47824594 -1.38227195 -1.63013333]                 Kosten  11.998635534435888\n",
      "Step size  0.125\n",
      "28 xopt=  [-0.4812804  -1.35065149 -1.61802559]                 Kosten  11.994595296586413\n",
      "Step size  0.25\n",
      "29 xopt=  [-0.46269105 -1.37682064 -1.57207652]                 Kosten  11.993204598327438\n",
      "Step size  0.125\n",
      "30 xopt=  [-0.47147893 -1.32598071 -1.56539642]                 Kosten  11.98743876074962\n",
      "Step size  0.125\n",
      "31 xopt=  [-0.4584192  -1.35385166 -1.53936942]                 Kosten  11.983536369808716\n",
      "Step size  0.125\n",
      "32 xopt=  [-0.46148799 -1.3227159  -1.5282423 ]                 Kosten  11.979928286331065\n",
      "Step size  0.25\n",
      "33 xopt=  [-0.44301343 -1.35080974 -1.48386833]                 Kosten  11.979750180226116\n",
      "Step size  0.125\n",
      "34 xopt=  [-0.45261437 -1.29747489 -1.47907678]                 Kosten  11.974273040456348\n",
      "Step size  0.125\n",
      "35 xopt=  [-0.43888298 -1.32927747 -1.45315683]                 Kosten  11.970695125904067\n",
      "Step size  0.125\n",
      "36 xopt=  [-0.44313358 -1.29448593 -1.44422624]                 Kosten  11.967278530039332\n",
      "Step size  0.125\n",
      "37 xopt=  [-0.43309112 -1.31278713 -1.42215212]                 Kosten  11.964456990756036\n",
      "Step size  0.125\n",
      "38 xopt=  [-0.43449684 -1.28879272 -1.41101083]                 Kosten  11.961781382571035\n",
      "Step size  0.25\n",
      "39 xopt=  [-0.41903246 -1.3094709  -1.37185681]                 Kosten  11.960761744141513\n",
      "Step size  0.125\n",
      "40 xopt=  [-0.42627145 -1.26528366 -1.36673751]                 Kosten  11.95712950153703\n",
      "Step size  0.125\n",
      "41 xopt=  [-0.41427493 -1.29290308 -1.34359873]                 Kosten  11.95448333871882\n",
      "Step size  0.125\n",
      "42 xopt=  [-0.41810866 -1.26098606 -1.33595389]                 Kosten  11.951880056250301\n",
      "Step size  0.125\n",
      "43 xopt=  [-0.40869255 -1.27922722 -1.31574823]                 Kosten  11.949687174775981\n",
      "Step size  0.125\n",
      "44 xopt=  [-0.41051492 -1.25523404 -1.30667284]                 Kosten  11.94757555573126\n",
      "Step size  0.125\n",
      "45 xopt=  [-0.40287358 -1.26742364 -1.28858347]                 Kosten  11.94567263230318\n",
      "Step size  0.25\n",
      "46 xopt=  [-0.40401614 -1.22999367 -1.26894758]                 Kosten  11.945661154471713\n",
      "Step size  0.125\n",
      "47 xopt=  [-0.39052555 -1.26650977 -1.24550158]                 Kosten  11.943552154326696\n",
      "Step size  0.125\n",
      "48 xopt=  [-0.39698456 -1.2264541  -1.24227291]                 Kosten  11.941179352163273\n",
      "Step size  0.125\n",
      "49 xopt=  [-0.38579109 -1.25416411 -1.22171083]                 Kosten  11.939441010065105\n",
      "Step size  0.125\n",
      "50 xopt=  [-0.39026629 -1.22184017 -1.21713396]                 Kosten  11.937618647482477\n",
      "Step size  0.125\n",
      "51 xopt=  [-0.38082436 -1.24345459 -1.19875821]                 Kosten  11.936147031459587\n",
      "Step size  0.125\n",
      "52 xopt=  [-0.38399868 -1.21664233 -1.1934025 ]                 Kosten  11.934662866571372\n",
      "Step size  0.125\n",
      "53 xopt=  [-0.37586801 -1.23396945 -1.17676163]                 Kosten  11.933395975576625\n",
      "Step size  0.125\n",
      "54 xopt=  [-0.37816346 -1.21116276 -1.171021  ]                 Kosten  11.932146532258793\n",
      "Step size  0.125\n",
      "55 xopt=  [-0.37102184 -1.22544304 -1.15580624]                 Kosten  11.931046426338908\n",
      "Step size  0.125\n",
      "56 xopt=  [-0.37271966 -1.20559545 -1.14995458]                 Kosten  11.929976476459297\n",
      "Step size  0.125\n",
      "57 xopt=  [-0.36633621 -1.21770295 -1.13594561]                 Kosten  11.92901834771573\n",
      "Step size  0.125\n",
      "58 xopt=  [-0.3676332  -1.20006841 -1.13017518]                 Kosten  11.928095150785984\n",
      "Step size  0.125\n",
      "59 xopt=  [-0.36184036 -1.21063449 -1.11720762]                 Kosten  11.927261226774315\n",
      "Step size  0.125\n",
      "60 xopt=  [-0.36287953 -1.19466664 -1.1116554 ]                 Kosten  11.926463117392341\n",
      "Step size  0.125\n",
      "61 xopt=  [-0.35755301 -1.20415916 -1.09960179]                 Kosten  11.925739473575748\n",
      "Step size  0.125\n",
      "62 xopt=  [-0.3584405  -1.18944619 -1.09436572]                 Kosten  11.925050451240626\n",
      "Step size  0.125\n",
      "63 xopt=  [-0.35348547 -1.19822133 -1.08312253]                 Kosten  11.9244253839369\n",
      "Step size  0.125\n",
      "64 xopt=  [-0.35430259 -1.18444271 -1.07827343]                 Kosten  11.92383257952852\n",
      "Step size  0.125\n",
      "65 xopt=  [-0.34964399 -1.19278002 -1.06775289]                 Kosten  11.923295758841373\n",
      "Step size  0.125\n",
      "66 xopt=  [-0.3504546  -1.17967707 -1.06334227]                 Kosten  11.9227881791995\n",
      "Step size  0.125\n",
      "67 xopt=  [-0.34603039 -1.18780375 -1.05346634]                 Kosten  11.922330240542774\n",
      "Step size  0.125\n",
      "68 xopt=  [-0.34688675 -1.1751596  -1.04953209]                 Kosten  11.921898137988288\n",
      "Step size  0.125\n",
      "69 xopt=  [-0.34264381 -1.18326716 -1.0402288 ]                 Kosten  11.92151052198425\n",
      "Step size  0.125\n",
      "70 xopt=  [-0.34358923 -1.17089195 -1.03679932]                 Kosten  11.921145133550027\n",
      "Step size  0.125\n",
      "71 xopt=  [-0.33947976 -1.17914921 -1.02799967]                 Kosten  11.92082004538754\n",
      "Step size  0.125\n",
      "72 xopt=  [-0.34055281 -1.16686923 -1.02509721]                 Kosten  11.920513473680916\n",
      "Step size  0.125\n",
      "73 xopt=  [-0.33653176 -1.17543187 -1.01673313]                 Kosten  11.92024388330966\n",
      "Step size  0.125\n",
      "74 xopt=  [-0.33776777 -1.16308137 -1.01437643]                 Kosten  11.919989043751793\n",
      "Step size  0.125\n",
      "75 xopt=  [-0.33379138 -1.17209974 -1.00637972]                 Kosten  11.919768795446991\n",
      "Step size  0.125\n",
      "76 xopt=  [-0.33522472 -1.15951383 -1.00458651]                 Kosten  11.919559453154468\n",
      "Step size  0.125\n",
      "77 xopt=  [-0.33124855 -1.16913966 -0.99688689]                 Kosten  11.919383287292536\n",
      "Step size  0.125\n",
      "78 xopt=  [-0.33291377 -1.15614838 -0.99567566]                 Kosten  11.91921403327704\n",
      "Step size  0.125\n",
      "79 xopt=  [-0.3288915  -1.16654052 -0.98820008]                 Kosten  11.919077715230857\n",
      "Step size  0.125\n",
      "80 xopt=  [-0.33082553 -1.15296347 -0.98759217]                 Kosten  11.918944048404974\n",
      "Step size  0.125\n",
      "81 xopt=  [-0.32670776 -1.16429398 -0.9802635 ]                 Kosten  11.918844498004045\n",
      "Step size  0.125\n",
      "82 xopt=  [-0.32895098 -1.14993491 -0.98028539]                 Kosten  11.918742824524184\n",
      "Step size  0.125\n",
      "83 xopt=  [-0.32468373 -1.1623943  -0.97302118]                 Kosten  11.918678281529107\n",
      "Step size  0.125\n",
      "84 xopt=  [-0.32728127 -1.14703556 -0.9737057 ]                 Kosten  11.918605964891677\n",
      "Step size  0.125\n",
      "85 xopt=  [-0.32280481 -1.16083899 -0.96641706]                 Kosten  11.918576263252977\n",
      "Step size  0.125\n",
      "86 xopt=  [-0.3258087  -1.14423574 -0.96780591]                 Kosten  11.918531695351488\n",
      "Step size  0.0625\n",
      "87 xopt=  [-0.32343247 -1.15193266 -0.96410093]                 Kosten  11.917909314891293\n",
      "Step size  1\n",
      "88 xopt=  [-0.31841178 -1.13932745 -0.94335592]                 Kosten  11.917638879627196\n",
      "Step size  0.0625\n",
      "89 xopt=  [-0.31706159 -1.14381356 -0.9411905 ]                 Kosten  11.917428648376125\n",
      "Step size  1\n",
      "90 xopt=  [-0.31457896 -1.13627701 -0.92932888]                 Kosten  11.917360267141929\n",
      "Step size  0.0625\n",
      "91 xopt=  [-0.3136666  -1.13919322 -0.92802425]                 Kosten  11.917274011957804\n",
      "Step size  1\n",
      "92 xopt=  [-0.31166074 -1.13450204 -0.92189049]                 Kosten  11.91726854181058\n",
      "Step size  0.0625\n",
      "93 xopt=  [-0.31118557 -1.1365584  -0.92101277]                 Kosten  11.917228066949635\n",
      "Step size  0.5\n",
      "94 xopt=  [-0.31146979 -1.13521689 -0.91917318]                 Kosten  11.91722504478867\n",
      "Step size  0.125\n",
      "95 xopt=  [-0.31088803 -1.13649905 -0.91845353]                 Kosten  11.917224531334943\n",
      "Step size  0.125\n",
      "96 xopt=  [-0.31109367 -1.13481739 -0.91858294]                 Kosten  11.917224367641065\n",
      "Step size  0.0625\n",
      "97 xopt=  [-0.31082712 -1.13560219 -0.91818946]                 Kosten  11.917217687730382\n",
      "Step size  1\n",
      "98 xopt=  [-0.31004215 -1.13409015 -0.91596724]                 Kosten  11.917215139951653\n",
      "Step size  0.0625\n",
      "99 xopt=  [-0.30991688 -1.13466121 -0.91570037]                 Kosten  11.917211906857345\n",
      "xopt [-0.30991688 -1.13466121 -0.91570037]\n",
      "Iterationen 99\n"
     ]
    }
   ],
   "source": [
    "k0 = np.array([-2, -2, -2])\n",
    "xopt, iter = linesearch(k0,cost3,dcost3, fix_stepsize = False)\n",
    "\n",
    "print('xopt', xopt)\n",
    "print('Iterationen', iter)"
   ]
  },
  {
   "attachments": {},
   "cell_type": "markdown",
   "metadata": {},
   "source": [
    "## e) analytische Lösung\n",
    "### algebraische Ricatti Gleichung"
   ]
  },
  {
   "cell_type": "code",
   "execution_count": 117,
   "metadata": {},
   "outputs": [
    {
     "name": "stdout",
     "output_type": "stream",
     "text": [
      "analytische Lösung [[-0.30926715 -1.13366704 -0.91287093]]\n",
      "zeitdiskrete Lösung [[-0.31306553 -1.13399859 -0.91338852]]\n"
     ]
    }
   ],
   "source": [
    "# Lösung der algebraischen Ricatti Gleichung\n",
    "P = la.solve_continuous_are(A,B,Q,R)\n",
    "K = -B.T@P/R\n",
    "print('analytische Lösung',K)\n",
    "Pd = la.solve_discrete_are(Ad,Bd,Q,R)\n",
    "Kd = -Bd.T@Pd/R\n",
    "print('zeitdiskrete Lösung',Kd)"
   ]
  },
  {
   "attachments": {},
   "cell_type": "markdown",
   "metadata": {},
   "source": [
    "## f) Vergleich Sympy"
   ]
  },
  {
   "cell_type": "code",
   "execution_count": 115,
   "metadata": {},
   "outputs": [
    {
     "name": "stderr",
     "output_type": "stream",
     "text": [
      "/tmp/ipykernel_29250/1775169149.py:1: DeprecationWarning: Use of `minimize` with `x0.ndim != 1` is deprecated. Currently, singleton dimensions will be removed from `x0`, but an error will be raised in SciPy 1.11.0.\n",
      "  res_Sympy = minimize(cost, k0, method=\"BFGS\", options={\"disp\": True})\n"
     ]
    },
    {
     "name": "stdout",
     "output_type": "stream",
     "text": [
      "Optimization terminated successfully.\n",
      "         Current function value: 11.920033\n",
      "         Iterations: 13\n",
      "         Function evaluations: 68\n",
      "         Gradient evaluations: 17\n",
      "xopt =  [-0.30979274 -1.13339329 -0.91314938]\n"
     ]
    }
   ],
   "source": [
    "res_Sympy = minimize(cost, k0, method=\"BFGS\", options={\"disp\": True})\n",
    "print('xopt = ', res_Sympy.x)"
   ]
  },
  {
   "cell_type": "code",
   "execution_count": 116,
   "metadata": {},
   "outputs": [
    {
     "name": "stderr",
     "output_type": "stream",
     "text": [
      "/tmp/ipykernel_29250/1601048390.py:1: DeprecationWarning: Use of `minimize` with `x0.ndim != 1` is deprecated. Currently, singleton dimensions will be removed from `x0`, but an error will be raised in SciPy 1.11.0.\n",
      "  res_Sympy3 = minimize(cost3, k0, method=\"BFGS\", options={\"disp\": True})\n"
     ]
    },
    {
     "name": "stdout",
     "output_type": "stream",
     "text": [
      "Optimization terminated successfully.\n",
      "         Current function value: 11.917210\n",
      "         Iterations: 13\n",
      "         Function evaluations: 68\n",
      "         Gradient evaluations: 17\n",
      "xopt =  [-0.3092671  -1.133667   -0.91287093]\n"
     ]
    }
   ],
   "source": [
    "res_Sympy3 = minimize(cost3, k0, method=\"BFGS\", options={\"disp\": True})\n",
    "print('xopt = ', res_Sympy3.x)"
   ]
  }
 ],
 "metadata": {
  "kernelspec": {
   "display_name": "Python 3",
   "language": "python",
   "name": "python3"
  },
  "language_info": {
   "codemirror_mode": {
    "name": "ipython",
    "version": 3
   },
   "file_extension": ".py",
   "mimetype": "text/x-python",
   "name": "python",
   "nbconvert_exporter": "python",
   "pygments_lexer": "ipython3",
   "version": "3.10.6"
  },
  "orig_nbformat": 4
 },
 "nbformat": 4,
 "nbformat_minor": 2
}
