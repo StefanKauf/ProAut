{
 "cells": [
  {
   "cell_type": "code",
   "execution_count": 152,
   "metadata": {},
   "outputs": [
    {
     "data": {
      "text/plain": [
       "'\\nTitle:       Optimale Steuerung und Regelung:\\nSubttitle:   1. Aufgabe\\nAuthor:      Stefan Kaufmann\\nMaNr.        51867606\\nDate:        01.04.2023\\n'"
      ]
     },
     "execution_count": 152,
     "metadata": {},
     "output_type": "execute_result"
    }
   ],
   "source": [
    "'''\n",
    "Title:       Optimale Steuerung und Regelung:\n",
    "Subttitle:   1. Aufgabe\n",
    "Author:      Stefan Kaufmann\n",
    "MaNr.        51867606\n",
    "Date:        01.04.2023\n",
    "'''"
   ]
  },
  {
   "attachments": {},
   "cell_type": "markdown",
   "metadata": {},
   "source": [
    "# Optimale Steuerung und Regelung\n",
    "## 1. Übung\n",
    "### Stefan Kaufmann - 51867606"
   ]
  },
  {
   "cell_type": "code",
   "execution_count": 1,
   "metadata": {},
   "outputs": [],
   "source": [
    "import numpy as np\n",
    "import scipy as sp\n",
    "import scipy.linalg as la\n",
    "import matplotlib.pyplot as plt\n",
    "import scipy.signal as sig"
   ]
  },
  {
   "attachments": {},
   "cell_type": "markdown",
   "metadata": {},
   "source": [
    "mathematisches Pendel einer oszillierenden Punktmasse mit PID Regler    \n",
    "$m \\ddot{y}(t) + \\omega^{2}y(t) = u(t)  \\hspace{2cm} y(0) = 1, \\hspace{1cm} \\dot{y} = 0 \\\\\n",
    "u(t) = K_{p}y(t) + K_{D}\\dot{y}(t) + K_{I} \\int_{0}^{t}y(\\tau) d\\tau \n",
    "$  \n",
    "mit dem Kostenfunktional    \n",
    "$\n",
    "F(k,y(k;t)) = \\frac{1}{2} \\int_{0}^{\\inf} (x^{T}(t)Qx(t) + ru^{2})dt\n",
    "$\n"
   ]
  },
  {
   "attachments": {},
   "cell_type": "markdown",
   "metadata": {},
   "source": [
    "## a) Überführung in ein satisches Problem\n",
    "\n",
    "$ x = \n",
    "\\begin{bmatrix}\n",
    "y & \\dot{y} & \\int_{0}^{t}y(\\tau) d\\tau \n",
    "\\end{bmatrix} ^{T}\n",
    "$\n",
    "\n",
    "$\n",
    "\\dot{x} = \n",
    "\\begin{bmatrix}\n",
    "0 & 1 & 0  \\\\\n",
    "\\frac{-\\omega^{2}}{m} & 0 & 0 \\\\\n",
    "1 & 0 & 0\n",
    "\\end{bmatrix} x\n",
    "+\n",
    "\\begin{bmatrix}\n",
    "0 \\\\ \\frac{1}{m} \\\\ 0\n",
    "\\end{bmatrix} u\n",
    "$     \n",
    "$\n",
    "y = \n",
    "\\begin{bmatrix}\n",
    "1 & 0 & 0\n",
    "\\end{bmatrix} + 0u\n",
    "$"
   ]
  },
  {
   "cell_type": "code",
   "execution_count": 2,
   "metadata": {},
   "outputs": [],
   "source": [
    "# Parameter\n",
    "m  = 1\n",
    "w  = 2\n",
    "Q = la.block_diag(3,4,5)\n",
    "R = 6"
   ]
  },
  {
   "cell_type": "code",
   "execution_count": 48,
   "metadata": {},
   "outputs": [],
   "source": [
    "# State Space System\n",
    "A = np.array([[0,       1, 0],\n",
    "               [-w**2/m, 0, 0],\n",
    "               [1,       0, 0]])\n",
    "\n",
    "B = np.array([0,1/m,0])\n",
    "B_ = np.array([[0,1/m,0]])\n",
    "\n",
    "C = np.array([1,0,0])\n",
    "D = 0\n",
    "\n",
    "\n",
    "#Ad,Bd,Cd,Dd,Ta = sig.cont2discrete((A,B,C,D),0.1, method='foh')\n",
    "Ad,Bd,Cd,Dd,Ta = sig.cont2discrete((A,B_.T,C,D),0.01, method='foh')"
   ]
  },
  {
   "cell_type": "code",
   "execution_count": 45,
   "metadata": {},
   "outputs": [
    {
     "name": "stdout",
     "output_type": "stream",
     "text": [
      "[2696.54608729]\n"
     ]
    }
   ],
   "source": [
    "N = 10000\n",
    "nx = 3\n",
    "\n",
    "\n",
    "def rollout(k,x):\n",
    "    u     = k@x    \n",
    "    dx     = Ad@x + Bd.T*u    \n",
    "    #dx    =A@x +B*u\n",
    "    return dx , u\n",
    "\n",
    "def cost(k):    \n",
    "    x0 = np.array([1,0,0])   \n",
    "    \n",
    "    x_new = np.zeros((nx,N))\n",
    "    u = np.zeros((1,N))\n",
    "    \n",
    "    x_new[:,1], u[:,0] = rollout(k,x0)  \n",
    "\n",
    "    cost_ = x0@Q@x0*0 + R*u[:,0]**2*0\n",
    "   \n",
    "    for i in range(1,N-2): \n",
    "        # laufende Kosten\n",
    "        x_new[:,i+1], u[:,i] = rollout(k,x_new[:,i])       \n",
    "        \n",
    "        cost_ += x_new[:,i+1]@Q@x_new[:,i+1]\n",
    "        cost_ += u[:,i]**2*R\n",
    "   \n",
    "    return cost_   \n",
    "\n",
    "print(cost([-1,-1,-1]))   \n",
    "\n"
   ]
  },
  {
   "cell_type": "code",
   "execution_count": 47,
   "metadata": {},
   "outputs": [
    {
     "name": "stdout",
     "output_type": "stream",
     "text": [
      "[-0.30926715 -1.13366704 -0.91287093]\n",
      "[[-0.3473642  -1.13682087 -0.91805992]]\n"
     ]
    }
   ],
   "source": [
    "\n",
    "P = la.solve_continuous_are(A,B_.T,Q,R)\n",
    "K = -B@P/R\n",
    "print(K)\n",
    "Pd = la.solve_discrete_are(Ad,Bd,Q,R)\n",
    "Kd = -Bd.T@Pd/R\n",
    "print(Kd)"
   ]
  },
  {
   "cell_type": "code",
   "execution_count": 46,
   "metadata": {},
   "outputs": [
    {
     "name": "stdout",
     "output_type": "stream",
     "text": [
      "Optimization terminated successfully.\n",
      "         Current function value: 2386.143945\n",
      "         Iterations: 117\n",
      "         Function evaluations: 200\n",
      " final_simplex: (array([[-0.31450755, -1.13093876, -0.91570986],\n",
      "       [-0.31452033, -1.13097526, -0.91578623],\n",
      "       [-0.31448333, -1.13095449, -0.91574541],\n",
      "       [-0.31450629, -1.13095777, -0.91568168]]), array([2386.14394456, 2386.14394476, 2386.14394492, 2386.14394501]))\n",
      "           fun: 2386.1439445619235\n",
      "       message: 'Optimization terminated successfully.'\n",
      "          nfev: 200\n",
      "           nit: 117\n",
      "        status: 0\n",
      "       success: True\n",
      "             x: array([-0.31450755, -1.13093876, -0.91570986])\n",
      "[2386.14394456]\n"
     ]
    }
   ],
   "source": [
    "\n",
    "from scipy.optimize import minimize\n",
    "k0 = np.array([0, -1, -1])\n",
    "res = minimize(cost, k0, method=\"nelder-mead\", options={\"disp\": True})\n",
    "print(res)\n",
    "print(cost(res.x))"
   ]
  }
 ],
 "metadata": {
  "kernelspec": {
   "display_name": "Python 3",
   "language": "python",
   "name": "python3"
  },
  "language_info": {
   "codemirror_mode": {
    "name": "ipython",
    "version": 3
   },
   "file_extension": ".py",
   "mimetype": "text/x-python",
   "name": "python",
   "nbconvert_exporter": "python",
   "pygments_lexer": "ipython3",
   "version": "3.10.6"
  },
  "orig_nbformat": 4
 },
 "nbformat": 4,
 "nbformat_minor": 2
}
