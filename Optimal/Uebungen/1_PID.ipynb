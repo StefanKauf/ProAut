{
 "cells": [
  {
   "cell_type": "code",
   "execution_count": 91,
   "metadata": {},
   "outputs": [
    {
     "data": {
      "text/plain": [
       "'\\nTitle:       Optimale Steuerung und Regelung:\\nSubttitle:   1. Aufgabe\\nAuthor:      Stefan Kaufmann\\nMaNr.        51867606\\nDate:        01.04.2023\\n'"
      ]
     },
     "execution_count": 91,
     "metadata": {},
     "output_type": "execute_result"
    }
   ],
   "source": [
    "'''\n",
    "Title:       Optimale Steuerung und Regelung:\n",
    "Subttitle:   1. Aufgabe\n",
    "Author:      Stefan Kaufmann\n",
    "MaNr.        51867606\n",
    "Date:        01.04.2023\n",
    "'''"
   ]
  },
  {
   "attachments": {},
   "cell_type": "markdown",
   "metadata": {},
   "source": [
    "# Optimale Steuerung und Regelung\n",
    "## 1. Übung\n",
    "### Stefan Kaufmann - 51867606"
   ]
  },
  {
   "cell_type": "code",
   "execution_count": 270,
   "metadata": {},
   "outputs": [],
   "source": [
    "import numpy as np\n",
    "import scipy as sp\n",
    "import scipy.linalg as la\n",
    "import matplotlib.pyplot as plt\n",
    "import scipy.signal as sig\n",
    "from scipy.optimize import minimize"
   ]
  },
  {
   "attachments": {},
   "cell_type": "markdown",
   "metadata": {},
   "source": [
    "mathematisches Pendel einer oszillierenden Punktmasse mit PID Regler    \n",
    "$m \\ddot{y}(t) + \\omega^{2}y(t) = u(t)  \\hspace{2cm} y(0) = 1, \\hspace{1cm} \\dot{y} = 0 \\\\\n",
    "u(t) = K_{p}y(t) + K_{D}\\dot{y}(t) + K_{I} \\int_{0}^{t}y(\\tau) d\\tau \n",
    "$  \n",
    "mit dem Kostenfunktional    \n",
    "$\n",
    "F(k,y(k;t)) = \\frac{1}{2} \\int_{0}^{\\inf} (x^{T}(t)Qx(t) + ru^{2})dt\n",
    "$\n"
   ]
  },
  {
   "attachments": {},
   "cell_type": "markdown",
   "metadata": {},
   "source": [
    "## a) Überführung in ein satisches Problem\n",
    "\n",
    "$ x = \n",
    "\\begin{bmatrix}\n",
    "y & \\dot{y} & \\int_{0}^{t}y(\\tau) d\\tau \n",
    "\\end{bmatrix} ^{T}\n",
    "$\n",
    "\n",
    "$\n",
    "\\dot{x} = \n",
    "\\begin{bmatrix}\n",
    "0 & 1 & 0  \\\\\n",
    "\\frac{-\\omega^{2}}{m} & 0 & 0 \\\\\n",
    "1 & 0 & 0\n",
    "\\end{bmatrix} x\n",
    "+\n",
    "\\begin{bmatrix}\n",
    "0 \\\\ \\frac{1}{m} \\\\ 0\n",
    "\\end{bmatrix} u\n",
    "$     \n",
    "$\n",
    "y = \n",
    "\\begin{bmatrix}\n",
    "1 & 0 & 0\n",
    "\\end{bmatrix} + 0u\n",
    "$   \n",
    "$\n",
    "F(k,y(k;t)) = \\frac{1}{2} \\sum_{k=0}^{N} (x_{k}^{T}(t)Qx_{k}(t) + ru_{k}^{2})dt \\\\\n",
    "mit \\hspace{1cm}  u = kx_{k}  \\hspace{1cm}  x_{k+1} = Ax_{k} + Bu_{k}  = (A+Bk)x_{k}\n",
    "$"
   ]
  },
  {
   "cell_type": "code",
   "execution_count": 152,
   "metadata": {},
   "outputs": [],
   "source": [
    "# Parameter\n",
    "m  = 1\n",
    "w  = 2\n",
    "Q = la.block_diag(3,4,5)\n",
    "R = 6"
   ]
  },
  {
   "cell_type": "code",
   "execution_count": 158,
   "metadata": {},
   "outputs": [],
   "source": [
    "# State Space System\n",
    "A = np.array([[0,       1, 0],\n",
    "               [-w**2/m, 0, 0],\n",
    "               [1,       0, 0]])\n",
    "\n",
    "B = np.array([[0],[1/m],[0]])\n",
    "\n",
    "C = np.array([[1,0,0]])\n",
    "D = 0"
   ]
  },
  {
   "cell_type": "code",
   "execution_count": 193,
   "metadata": {},
   "outputs": [],
   "source": [
    "def runge_kutta_k4(f,x,u,h=0.1):\n",
    "    \"\"\" Runge Kutta Verfahren mit variabler Schrittweite \n",
    "        Params\n",
    "         --------\n",
    "        f:             Funktion welche integriert werden soll\n",
    "        x:             Startvektor x0 = [x1 x2 x3 x4 x5 .... xN]\n",
    "        u:             Eingangsvektor u = [u1 u2 u3 .... uM]\n",
    "        h:             Schrittweite \n",
    "        t:             Hilfsvariable --> wird benötigt da f eine Funktion aus f(t,x,u) ist\n",
    "\n",
    "\n",
    "        Returns\n",
    "        --------\n",
    "        x + dx:       neuer Zustandsvektor  [x1 x2 .... xN]   \n",
    "                \n",
    "    \"\"\"\n",
    "    #RK4 integration with zero-order hold on u\n",
    "        \n",
    "    f1 = f(x, u)\n",
    "    f2 = f(x + 1/2*h*f1, u)\n",
    "    f3 = f(x + 1/2*h*f2, u)\n",
    "    f4 = f(x + h*f3, u)\n",
    "\n",
    "    return x + (h/6.0)*(f1 + 2*f2 + 2*f3 + f4)"
   ]
  },
  {
   "cell_type": "code",
   "execution_count": 285,
   "metadata": {},
   "outputs": [],
   "source": [
    "global x0,N,nx, k0\n",
    "f_dynamic = lambda x,u: A@x+B@u\n",
    "k0 = np.array([[-2,-2,-2]])         # Anfangsschätzung\n",
    "N = 1000                           # Anzahl von Zeitschritten N--> unendlich\n",
    "nx = 3                             # Anzahl von Zuständen\n",
    "x0 = np.array([[1],[0],[0]])       # Startzustand --> zu stabilisiern\n",
    "dt = 0.01\n",
    "\n",
    "Ad,Bd,Cd,Dd,Ta = sig.cont2discrete((A,B,C,D),dt, method='foh')  # Discretisierung damit dt --> gegen 0 geht  (= analytische Lösung)\n",
    "\n",
    "def rollout(k,x):\n",
    "    u     = k@x    \n",
    "    dx    = Ad@x + Bd@u    \n",
    "    #dx    =A@x +B*u\n",
    "    #dx = runge_kutta_k4(f_dynamic,x,u)\n",
    "    return dx , u\n",
    "\n",
    "def cost(k):  \n",
    "    k = np.reshape(k, (1, 3))   \n",
    "    x_new, u   = rollout(k,x0)  \n",
    "\n",
    "    cost_      = (x0.T@Q@x0 + R*u**2*0)/2\n",
    "   \n",
    "    for i in range(1,N-2): \n",
    "        # laufende Kosten\n",
    "        x_new, u = rollout(k,x_new)       \n",
    "        \n",
    "        cost_ += x_new.T@Q@x_new/2\n",
    "        cost_ += u**2*R/2\n",
    "   \n",
    "    return cost_  "
   ]
  },
  {
   "cell_type": "code",
   "execution_count": 199,
   "metadata": {},
   "outputs": [
    {
     "name": "stdout",
     "output_type": "stream",
     "text": [
      "analytische Lösung [[-0.30926715 -1.13366704 -0.91287093]]\n",
      "zeitdiskrete Lösung [[-0.3473642  -1.13682087 -0.91805992]]\n"
     ]
    }
   ],
   "source": [
    "# Lösung der algebraischen Ricatti Gleichung\n",
    "P = la.solve_continuous_are(A,B,Q,R)\n",
    "K = -B.T@P/R\n",
    "print('analytische Lösung',K)\n",
    "Pd = la.solve_discrete_are(Ad,Bd,Q,R)\n",
    "Kd = -Bd.T@Pd/R\n",
    "print('zeitdiskrete Lösung',Kd)"
   ]
  },
  {
   "cell_type": "code",
   "execution_count": 286,
   "metadata": {},
   "outputs": [
    {
     "name": "stdout",
     "output_type": "stream",
     "text": [
      "Optimization terminated successfully.\n",
      "         Current function value: 1193.681374\n",
      "         Iterations: 83\n",
      "         Function evaluations: 149\n",
      " final_simplex: (array([[-0.29879199, -1.10662862, -0.84084109],\n",
      "       [-0.29881505, -1.10665951, -0.84093693],\n",
      "       [-0.29877403, -1.10663759, -0.8408599 ],\n",
      "       [-0.29877662, -1.10663114, -0.84088082]]), array([1193.68137397, 1193.68137399, 1193.68137404, 1193.68137406]))\n",
      "           fun: 1193.6813739688723\n",
      "       message: 'Optimization terminated successfully.'\n",
      "          nfev: 149\n",
      "           nit: 83\n",
      "        status: 0\n",
      "       success: True\n",
      "             x: array([-0.29879199, -1.10662862, -0.84084109])\n"
     ]
    }
   ],
   "source": [
    "# Kontrolle der Kostenfunktion\n",
    "res = minimize(cost, k0, method=\"nelder-mead\", options={\"disp\": True})\n",
    "print(res)"
   ]
  },
  {
   "cell_type": "code",
   "execution_count": 217,
   "metadata": {},
   "outputs": [
    {
     "name": "stdout",
     "output_type": "stream",
     "text": [
      "Optimization terminated successfully.\n",
      "         Current function value: 11.917210\n",
      "         Iterations: 84\n",
      "         Function evaluations: 155\n",
      " final_simplex: (array([[-0.30923162, -1.13364782, -0.91285598],\n",
      "       [-0.30927895, -1.13363177, -0.91280413],\n",
      "       [-0.30927403, -1.13363048, -0.91276123],\n",
      "       [-0.30931058, -1.13373422, -0.91295376]]), array([11.91720968, 11.91720968, 11.91720969, 11.91720969]))\n",
      "           fun: 11.917209681931078\n",
      "       message: 'Optimization terminated successfully.'\n",
      "          nfev: 155\n",
      "           nit: 84\n",
      "        status: 0\n",
      "       success: True\n",
      "             x: array([-0.30923162, -1.13364782, -0.91285598])\n"
     ]
    }
   ],
   "source": [
    "# Alternative mit Scipy integrate\n",
    "from scipy.integrate import quad\n",
    "from scipy.linalg import expm\n",
    "\n",
    "def integrand(t,k):\n",
    "    k = np.reshape(k, (3, 1))\n",
    "    x = expm((A + B@k.T)*t)@x0              # Lösung der Matrixespotenitlagleichung\n",
    "    u = k.T@x                             # Eingang\n",
    "    #print((x@Q@x + R*u**2)*0.5)\n",
    "    return (x.T@Q@x + R*u**2)*0.5\n",
    "\n",
    "\n",
    "cost3 = lambda k: quad(integrand, 0, np.inf, args=(k,))[0]\n",
    "\n",
    "res3 = minimize(cost3, k0, method=\"nelder-mead\", options={\"disp\": True})\n",
    "print(res3)\n"
   ]
  },
  {
   "cell_type": "code",
   "execution_count": 284,
   "metadata": {},
   "outputs": [
    {
     "name": "stdout",
     "output_type": "stream",
     "text": [
      "analytisch [[-0.30926715 -1.13366704 -0.91287093]]\n",
      "Zeitsikret endlich [-0.29879199 -1.10662862 -0.84084109]\n",
      "scipy integrade [-0.30923162 -1.13364782 -0.91285598]\n"
     ]
    }
   ],
   "source": [
    "# Genenüberstellung\n",
    "print('analytisch', K )\n",
    "print('Zeitsikret endlich', res.x)\n",
    "print('scipy integrade', res3.x)"
   ]
  },
  {
   "attachments": {},
   "cell_type": "markdown",
   "metadata": {},
   "source": [
    "## b) Gradient des Kostenfunktionals\n"
   ]
  },
  {
   "cell_type": "code",
   "execution_count": 344,
   "metadata": {},
   "outputs": [],
   "source": [
    "def dcost(k):    \n",
    "    gradient = np.zeros((nx,1),dtype=float)\n",
    "    gradient += x0@k@x0*R\n",
    "    xnew,u   = rollout(k,x0)\n",
    "    \n",
    "    for i in range(0,N):                         \n",
    "        #gradient += (xnew.T@Q).T  \n",
    "        gradient  += (Ad+Bd@k).T@xnew     \n",
    "        gradient  += xnew@k@xnew*R\n",
    "\n",
    "        xnew,u  = rollout(k,xnew)\n",
    "    \n",
    "    return gradient"
   ]
  },
  {
   "cell_type": "code",
   "execution_count": 316,
   "metadata": {},
   "outputs": [],
   "source": [
    "from scipy.optimize import approx_fprime\n",
    "\n",
    "def dcost3(k):\n",
    "    # Nummerisch Ableiten \n",
    "    return approx_fprime(k, cost3, 1e-8)"
   ]
  },
  {
   "cell_type": "code",
   "execution_count": 345,
   "metadata": {},
   "outputs": [
    {
     "name": "stdout",
     "output_type": "stream",
     "text": [
      "[[    6.00875618 -1307.43072707   399.48219725]]\n",
      "[-2.59999988  0.1750001   0.41250008]\n"
     ]
    }
   ],
   "source": [
    "\n",
    "print(dcost(k0).T)\n",
    "print(dcost3([-2,-2,-2]))"
   ]
  },
  {
   "cell_type": "code",
   "execution_count": 346,
   "metadata": {},
   "outputs": [
    {
     "name": "stderr",
     "output_type": "stream",
     "text": [
      "/tmp/ipykernel_3797/1595469226.py:10: RuntimeWarning: overflow encountered in matmul\n",
      "  return (x.T@Q@x + R*u**2)*0.5\n",
      "/tmp/ipykernel_3797/1595469226.py:10: RuntimeWarning: overflow encountered in square\n",
      "  return (x.T@Q@x + R*u**2)*0.5\n",
      "/home/stefan/.local/lib/python3.10/site-packages/scipy/optimize/_numdiff.py:576: RuntimeWarning: invalid value encountered in subtract\n",
      "  df = fun(x) - f0\n"
     ]
    },
    {
     "name": "stdout",
     "output_type": "stream",
     "text": [
      "Warning: Desired error not necessarily achieved due to precision loss.\n",
      "         Current function value: 1193.794703\n",
      "         Iterations: 10\n",
      "         Function evaluations: 72\n",
      "         Gradient evaluations: 57\n",
      "      fun: 1193.7947032458635\n",
      " hess_inv: array([[0.40610388, 0.21089909, 0.46538967],\n",
      "       [0.21089909, 0.28966817, 0.63122082],\n",
      "       [0.46538967, 0.63122082, 1.91595445]])\n",
      "      jac: array([0.00429239, 0.00915374, 0.00060432])\n",
      "  message: 'Desired error not necessarily achieved due to precision loss.'\n",
      "     nfev: 72\n",
      "      nit: 10\n",
      "     njev: 57\n",
      "   status: 2\n",
      "  success: False\n",
      "        x: array([-0.30559221, -1.12992055, -0.90451541])\n"
     ]
    }
   ],
   "source": [
    "# Kontrolle des Gradienten\n",
    "res = minimize(cost, k0, method=\"BFGS\",jac=dcost3, options={\"disp\": True})\n",
    "print(res)"
   ]
  },
  {
   "cell_type": "code",
   "execution_count": 347,
   "metadata": {},
   "outputs": [
    {
     "name": "stdout",
     "output_type": "stream",
     "text": [
      "Optimization terminated successfully.\n",
      "         Current function value: 11.917210\n",
      "         Iterations: 13\n",
      "         Function evaluations: 17\n",
      "         Gradient evaluations: 17\n",
      "      fun: 11.917209679572888\n",
      " hess_inv: array([[0.38209116, 0.20709765, 0.44760797],\n",
      "       [0.20709765, 0.28954696, 0.62664103],\n",
      "       [0.44760797, 0.62664103, 1.86617853]])\n",
      "      jac: array([-7.10542736e-07,  0.00000000e+00, -3.55271366e-07])\n",
      "  message: 'Optimization terminated successfully.'\n",
      "     nfev: 17\n",
      "      nit: 13\n",
      "     njev: 17\n",
      "   status: 0\n",
      "  success: True\n",
      "        x: array([-0.30926735, -1.13366716, -0.9128712 ])\n"
     ]
    }
   ],
   "source": [
    "res = minimize(cost3, k0, method=\"BFGS\",jac=dcost3, options={\"disp\": True})\n",
    "print(res)"
   ]
  },
  {
   "attachments": {},
   "cell_type": "markdown",
   "metadata": {},
   "source": [
    "## c) Gradientenverfahren nach [Gra19, Abschnitt 3.3.2]\n",
    "Die Suchrichtung ergibt sich zu: $ \\hspace{0.5cm} s^{k}= -\\nabla f(x^{k}) $\n",
    "## d) Schrittweitensteuerung mittels Backtracking Verfahren\n",
    "![amerigo](./img/amerigo.png)\n",
    "\n"
   ]
  },
  {
   "cell_type": "code",
   "execution_count": 362,
   "metadata": {},
   "outputs": [],
   "source": [
    "def backtracking(x,f,s,rho=0.5,c1=1e-7):\n",
    "\n",
    "    alpha = 1   \n",
    "\n",
    "    while f(x +alpha*s) >= f(x) + c1*alpha*s@s or np.isnan(f(x+alpha*s)):\n",
    "        alpha *= rho   # Reduzierung der Schrittweite     \n",
    "\n",
    "    return alpha"
   ]
  },
  {
   "cell_type": "code",
   "execution_count": 366,
   "metadata": {},
   "outputs": [],
   "source": [
    "def gradienten_step(x,f,df,fix=False):\n",
    "        \n",
    "    # Gradientenrichtung --> ohne Regularisierung\n",
    "    s = -df(x)               \n",
    "    \n",
    "    # Backtracking    \n",
    "    alpha = backtracking(x,f,s)\n",
    "    # Fixed Step size\n",
    "    if fix == True:\n",
    "        alpha = 0.1\n",
    "    \n",
    "    \n",
    "\n",
    "    return x + alpha*s \n"
   ]
  },
  {
   "cell_type": "code",
   "execution_count": 364,
   "metadata": {},
   "outputs": [],
   "source": [
    "def linesearch(x0,f,df,Nmax=20,tol_x=1e-20, tol_f =1e-10, fix_stepsize=False ):\n",
    "        \n",
    "    x_alt = x0.copy()\n",
    "\n",
    "    for k in range(Nmax):\n",
    "              \n",
    "        x = gradienten_step(x_alt,f,df,fix_stepsize)        \n",
    "        # Abbruchkriterium\n",
    "        if np.linalg.norm(df(x)) < tol_f: #np.linalg.norm(x_alt-x) < tol_x: #or np.linalg.norm(df(x_alt)-df(x)) < tol_f:            \n",
    "                return x,k\n",
    "        print(k, 'xopt= ',x)  \n",
    "        x_alt = x.copy()\n",
    "    return x,k\n",
    "        "
   ]
  },
  {
   "cell_type": "code",
   "execution_count": 367,
   "metadata": {},
   "outputs": [
    {
     "name": "stdout",
     "output_type": "stream",
     "text": [
      "0\n",
      "1\n",
      "2\n",
      "3\n",
      "4\n",
      "5\n",
      "6\n",
      "7\n",
      "8\n",
      "9\n",
      "10\n",
      "11\n",
      "12\n",
      "13\n",
      "14\n",
      "15\n",
      "16\n",
      "17\n",
      "18\n",
      "19\n",
      "xopt [-0.57888649 -1.50397805 -2.08617352]\n",
      "Iterationen 19\n"
     ]
    }
   ],
   "source": [
    "k0 = np.array([-2, -2, -2])\n",
    "xopt, iter = linesearch(k0,cost3,dcost3, fix_stepsize = True)\n",
    "\n",
    "print('xopt', xopt)\n",
    "print('Iterationen', iter)"
   ]
  }
 ],
 "metadata": {
  "kernelspec": {
   "display_name": "Python 3",
   "language": "python",
   "name": "python3"
  },
  "language_info": {
   "codemirror_mode": {
    "name": "ipython",
    "version": 3
   },
   "file_extension": ".py",
   "mimetype": "text/x-python",
   "name": "python",
   "nbconvert_exporter": "python",
   "pygments_lexer": "ipython3",
   "version": "3.10.6"
  },
  "orig_nbformat": 4
 },
 "nbformat": 4,
 "nbformat_minor": 2
}
