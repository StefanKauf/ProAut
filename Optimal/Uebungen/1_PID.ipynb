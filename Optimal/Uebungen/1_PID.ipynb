{
 "cells": [
  {
   "cell_type": "code",
   "execution_count": 64,
   "metadata": {},
   "outputs": [
    {
     "data": {
      "text/plain": [
       "'\\nTitle:       Optimale Steuerung und Regelung:\\nSubttitle:   1. Aufgabe\\nAuthor:      Stefan Kaufmann\\nMaNr.        51867606\\nDate:        01.04.2023\\n'"
      ]
     },
     "execution_count": 64,
     "metadata": {},
     "output_type": "execute_result"
    }
   ],
   "source": [
    "'''\n",
    "Title:       Optimale Steuerung und Regelung:\n",
    "Subttitle:   1. Aufgabe\n",
    "Author:      Stefan Kaufmann\n",
    "MaNr.        51867606\n",
    "Date:        01.04.2023\n",
    "'''"
   ]
  },
  {
   "attachments": {},
   "cell_type": "markdown",
   "metadata": {},
   "source": [
    "# Optimale Steuerung und Regelung\n",
    "## 1. Übung\n",
    "### Stefan Kaufmann - 51867606"
   ]
  },
  {
   "cell_type": "code",
   "execution_count": 65,
   "metadata": {},
   "outputs": [],
   "source": [
    "import numpy as np\n",
    "import scipy as sp\n",
    "import scipy.linalg as la\n",
    "import matplotlib.pyplot as plt\n",
    "import scipy.signal as sig\n",
    "from scipy.optimize import minimize"
   ]
  },
  {
   "attachments": {},
   "cell_type": "markdown",
   "metadata": {},
   "source": [
    "mathematisches Pendel einer oszillierenden Punktmasse mit PID Regler    \n",
    "$m \\ddot{y}(t) + \\omega^{2}y(t) = u(t)  \\hspace{2cm} y(0) = 1, \\hspace{1cm} \\dot{y} = 0 \\\\\n",
    "u(t) = K_{p}y(t) + K_{D}\\dot{y}(t) + K_{I} \\int_{0}^{t}y(\\tau) d\\tau \n",
    "$  \n",
    "mit dem Kostenfunktional    \n",
    "$\n",
    "F(k,y(k;t)) = \\frac{1}{2} \\int_{0}^{\\inf} (x^{T}(t)Qx(t) + ru^{2})dt\n",
    "$\n"
   ]
  },
  {
   "attachments": {},
   "cell_type": "markdown",
   "metadata": {},
   "source": [
    "## a) Überführung in ein satisches Problem\n",
    "\n",
    "$ x = \n",
    "\\begin{bmatrix}\n",
    "y & \\dot{y} & \\int_{0}^{t}y(\\tau) d\\tau \n",
    "\\end{bmatrix} ^{T}\n",
    "$\n",
    "\n",
    "$\n",
    "\\dot{x} = \n",
    "\\begin{bmatrix}\n",
    "0 & 1 & 0  \\\\\n",
    "\\frac{-\\omega^{2}}{m} & 0 & 0 \\\\\n",
    "1 & 0 & 0\n",
    "\\end{bmatrix} x\n",
    "+\n",
    "\\begin{bmatrix}\n",
    "0 \\\\ \\frac{1}{m} \\\\ 0\n",
    "\\end{bmatrix} u\n",
    "$     \n",
    "$\n",
    "y = \n",
    "\\begin{bmatrix}\n",
    "1 & 0 & 0\n",
    "\\end{bmatrix} + 0u\n",
    "$   \n",
    "$\n",
    "F(k,y(k;t)) = \\frac{1}{2} \\sum_{k=0}^{N} (x_{k}^{T}(t)Qx_{k}(t) + ru_{k}^{2})dt \\\\\n",
    "mit \\hspace{1cm}  u = kx_{k}  \\hspace{1cm}  x_{k+1} = Ax_{k} + Bu_{k}  = (A+Bk)x_{k}\n",
    "$"
   ]
  },
  {
   "cell_type": "code",
   "execution_count": 147,
   "metadata": {},
   "outputs": [],
   "source": [
    "# Parameter\n",
    "m  = 1\n",
    "w  = 2\n",
    "Q = la.block_diag(3,4,5)\n",
    "R = 6"
   ]
  },
  {
   "cell_type": "code",
   "execution_count": 148,
   "metadata": {},
   "outputs": [],
   "source": [
    "# State Space System\n",
    "A = np.array([[0,       1, 0],\n",
    "               [-w**2/m, 0, 0],\n",
    "               [1,       0, 0]])\n",
    "\n",
    "B = np.array([0,1/m,0])\n",
    "B_ = np.array([[0,1/m,0]])\n",
    "\n",
    "C = np.array([1,0,0])\n",
    "D = 0\n"
   ]
  },
  {
   "cell_type": "code",
   "execution_count": null,
   "metadata": {},
   "outputs": [
    {
     "name": "stdout",
     "output_type": "stream",
     "text": [
      "[2696.54608729]\n"
     ]
    }
   ],
   "source": [
    "global x0,N,nx \n",
    "\n",
    "N = 1000       # Anzahl von Zeitschritten N--> unendlich\n",
    "nx = 3                              # Anzahl von Zuständen\n",
    "x0 = np.array([1,0,0])       # Startzustand --> zu stabilisiern\n",
    "dt = 0.01\n",
    "\n",
    "Ad,Bd,Cd,Dd,Ta = sig.cont2discrete((A,B_.T,C,D),dt, method='foh')  # Discretisierung damit dt --> gegen 0 geht  (= analytische Lösung)\n",
    "def rollout(k,x):\n",
    "    u     = k@x    \n",
    "    dx    = Ad@x + Bd.T*u    \n",
    "    #dx    =A@x +B*u\n",
    "    return dx , u\n",
    "\n",
    "def cost(k):   \n",
    "       \n",
    "    x_new = np.zeros((nx,N))\n",
    "    u = np.zeros((1,N))\n",
    "    \n",
    "    x_new[:,1], u[:,0] = rollout(k,x0)  \n",
    "\n",
    "    cost_ = x0@Q@x0*0 + R*u[:,0]**2*0\n",
    "   \n",
    "    for i in range(1,N-2): \n",
    "        # laufende Kosten\n",
    "        x_new[:,i+1], u[:,i] = rollout(k,x_new[:,i])       \n",
    "        \n",
    "        cost_ += x_new[:,i+1]@Q@x_new[:,i+1]\n",
    "        cost_ += u[:,i]**2*R\n",
    "   \n",
    "    return cost_   \n",
    "\n",
    "print(cost([-1,-1,-1]))   \n",
    "\n"
   ]
  },
  {
   "cell_type": "code",
   "execution_count": 136,
   "metadata": {},
   "outputs": [
    {
     "name": "stdout",
     "output_type": "stream",
     "text": [
      "analytische Lösung [-0.30926715 -1.13366704 -0.91287093]\n",
      "zeitdiskrete Lösung [[-0.31306553 -1.13399859 -0.91338852]]\n"
     ]
    }
   ],
   "source": [
    "# Lösung der algebraischen Ricatti Gleichung\n",
    "P = la.solve_continuous_are(A,B_.T,Q,R)\n",
    "K = -B@P/R\n",
    "print('analytische Lösung',K)\n",
    "Pd = la.solve_discrete_are(Ad,Bd,Q,R)\n",
    "Kd = -Bd.T@Pd/R\n",
    "print('zeitdiskrete Lösung',Kd)"
   ]
  },
  {
   "cell_type": "code",
   "execution_count": 167,
   "metadata": {},
   "outputs": [
    {
     "name": "stdout",
     "output_type": "stream",
     "text": [
      "Optimization terminated successfully.\n",
      "         Current function value: 2386.143945\n",
      "         Iterations: 85\n",
      "         Function evaluations: 157\n",
      " final_simplex: (array([[-0.31450845, -1.13095113, -0.91569571],\n",
      "       [-0.31450521, -1.13095741, -0.91576243],\n",
      "       [-0.31449919, -1.13092152, -0.91564481],\n",
      "       [-0.31446472, -1.13092549, -0.91565748]]), array([2386.14394454, 2386.1439447 , 2386.14394476, 2386.14394497]))\n",
      "           fun: 2386.1439445405163\n",
      "       message: 'Optimization terminated successfully.'\n",
      "          nfev: 157\n",
      "           nit: 85\n",
      "        status: 0\n",
      "       success: True\n",
      "             x: array([-0.31450845, -1.13095113, -0.91569571])\n"
     ]
    }
   ],
   "source": [
    "# Kontrolle der Kostenfunktion\n",
    "k0 = np.array([-2, -2, -2])\n",
    "res = minimize(cost, k0, method=\"nelder-mead\", options={\"disp\": True})\n",
    "print(res)\n",
    "#print(cost(res.x))"
   ]
  },
  {
   "attachments": {},
   "cell_type": "markdown",
   "metadata": {},
   "source": [
    "## b) Gradient des Kostenfunktionals\n"
   ]
  },
  {
   "cell_type": "code",
   "execution_count": 195,
   "metadata": {},
   "outputs": [],
   "source": [
    "def grad(k):    \n",
    "    gradient = x0@k*x0*R\n",
    "    xnew,u   = rollout(k,x0)\n",
    "\n",
    "    for i in range(1,N): \n",
    "        xnew,u  = rollout(k,xnew.flatten())                  \n",
    "        \n",
    "        gradient = np.add((xnew@Q).flatten(), gradient)\n",
    "        \n",
    "        gradient += xnew.flatten()*u*R\n",
    "        xnew,u  = rollout(k,xnew.flatten())\n",
    "    \n",
    "    return gradient"
   ]
  },
  {
   "cell_type": "code",
   "execution_count": 186,
   "metadata": {},
   "outputs": [],
   "source": [
    "from scipy.optimize import approx_fprime\n",
    "def grad2(k):\n",
    "    # Nummerisch Ableiten \n",
    "    return approx_fprime(k, cost, 1e-8)"
   ]
  },
  {
   "cell_type": "code",
   "execution_count": 196,
   "metadata": {},
   "outputs": [
    {
     "name": "stdout",
     "output_type": "stream",
     "text": [
      "[  67.98890513 -800.74260125  428.07253998]\n",
      "[ -17.00526916 -795.38247478  398.7201746 ]\n"
     ]
    }
   ],
   "source": [
    "print(grad([-0.314,-1,-0.9]))\n",
    "print(grad([-2,-2,-2]))"
   ]
  },
  {
   "cell_type": "code",
   "execution_count": 197,
   "metadata": {},
   "outputs": [],
   "source": [
    "# Kontrolle des Gradienten\n",
    "k0 = np.array([-2, -2, -2])\n",
    "res = minimize(cost, k0, method=\"BFGS\",jac=grad2, options={\"disp\": True})\n",
    "print(res)"
   ]
  },
  {
   "attachments": {},
   "cell_type": "markdown",
   "metadata": {},
   "source": [
    "## c) Gradientenverfahren nach [Gra19, Abschnitt 3.3.2]"
   ]
  }
 ],
 "metadata": {
  "kernelspec": {
   "display_name": "Python 3",
   "language": "python",
   "name": "python3"
  },
  "language_info": {
   "codemirror_mode": {
    "name": "ipython",
    "version": 3
   },
   "file_extension": ".py",
   "mimetype": "text/x-python",
   "name": "python",
   "nbconvert_exporter": "python",
   "pygments_lexer": "ipython3",
   "version": "3.10.6"
  },
  "orig_nbformat": 4
 },
 "nbformat": 4,
 "nbformat_minor": 2
}
